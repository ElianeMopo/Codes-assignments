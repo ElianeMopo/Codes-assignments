{
 "cells": [
  {
   "cell_type": "code",
   "execution_count": 322,
   "id": "bf8a05a8",
   "metadata": {},
   "outputs": [],
   "source": [
    "import numpy as np\n",
    "import pandas as pd"
   ]
  },
  {
   "cell_type": "markdown",
   "id": "68c50f15",
   "metadata": {},
   "source": [
    "### 2. Let us study the implementation of PCA under the scikit-learn."
   ]
  },
  {
   "cell_type": "code",
   "execution_count": 2,
   "id": "a9a5243e",
   "metadata": {},
   "outputs": [
    {
     "name": "stdout",
     "output_type": "stream",
     "text": [
      "Requirement already satisfied: scikit-learn in /usr/lib/python3/dist-packages (0.23.2)\n",
      "Collecting scikit-learn\n",
      "  Downloading scikit_learn-1.4.0-1-cp39-cp39-manylinux_2_17_x86_64.manylinux2014_x86_64.whl (12.1 MB)\n",
      "\u001b[K     |████████████████████████████████| 12.1 MB 12.0 MB/s eta 0:00:01\n",
      "\u001b[?25hCollecting joblib>=1.2.0\n",
      "  Downloading joblib-1.3.2-py3-none-any.whl (302 kB)\n",
      "\u001b[K     |████████████████████████████████| 302 kB 9.4 MB/s eta 0:00:01\n",
      "\u001b[?25hRequirement already satisfied: scipy>=1.6.0 in /usr/lib/python3/dist-packages (from scikit-learn) (1.6.0)\n",
      "Requirement already satisfied: numpy<2.0,>=1.19.5 in /usr/lib/python3/dist-packages (from scikit-learn) (1.19.5)\n",
      "Collecting threadpoolctl>=2.0.0\n",
      "  Downloading threadpoolctl-3.2.0-py3-none-any.whl (15 kB)\n",
      "Installing collected packages: threadpoolctl, joblib, scikit-learn\n",
      "Successfully installed joblib-1.3.2 scikit-learn-1.4.0 threadpoolctl-3.2.0\n",
      "Note: you may need to restart the kernel to use updated packages.\n"
     ]
    }
   ],
   "source": [
    "#Installation of scikit-learn \n",
    "\n",
    "pip install -U scikit-learn"
   ]
  },
  {
   "cell_type": "markdown",
   "id": "4eab0f3a",
   "metadata": {},
   "source": [
    "#### We are going to implement the PCA of the Iris dataset here"
   ]
  },
  {
   "cell_type": "code",
   "execution_count": 383,
   "id": "bd122826",
   "metadata": {},
   "outputs": [],
   "source": [
    "from sklearn.decomposition import PCA\n",
    "from sklearn.datasets import load_iris\n",
    "import matplotlib.pyplot as plt"
   ]
  },
  {
   "cell_type": "code",
   "execution_count": 384,
   "id": "c8de259d",
   "metadata": {},
   "outputs": [
    {
     "data": {
      "image/png": "[encoded data removed]",
      "text/plain": [
       "<Figure size 432x288 with 1 Axes>"
      ]
     },
     "metadata": {
      "needs_background": "light"
     },
     "output_type": "display_data"
    }
   ],
   "source": [
    "# Loading of the dataset \n",
    "data = load_iris()\n",
    "X = data.data\n",
    "y = data.target\n",
    "\n",
    "# Apply PCA with two principal components\n",
    "pca = PCA(n_components=2)\n",
    "X_pca = pca.fit_transform(X)  # To fit and transform the data(compute the PCA and applies the dimensionality reduction)\n",
    "\n",
    "for i in range(len(data.target_names)):\n",
    "    plt.scatter(X_pca[y == i, 0], X_pca[y == i, 1], label=data.target_names[i])\n",
    "\n",
    "plt.title('PCA of Iris Dataset')\n",
    "plt.xlabel('Principal Component 1')\n",
    "plt.ylabel('Principal Component 2')\n",
    "plt.legend()\n",
    "plt.show()"
   ]
  },
  {
   "cell_type": "markdown",
   "id": "aa431baf",
   "metadata": {},
   "source": [
    "#### 3. The data have been upload directly on the site using the link you provide us. So, here we are not going to import the data using  an URL"
   ]
  },
  {
   "cell_type": "markdown",
   "id": "78fc940c",
   "metadata": {},
   "source": [
    "### 4. Upload the the dataset into a matrix A"
   ]
  },
  {
   "cell_type": "code",
   "execution_count": 385,
   "id": "39dd769b",
   "metadata": {},
   "outputs": [
    {
     "data": {
      "text/plain": [
       "array([[39, 'BM', 'F', ..., -526.4492185893072, -268.96392361976007,\n",
       "        -779.6430919760287],\n",
       "       [40, 'BM', 'F', ..., -671.9112088490682, -671.9112088490682,\n",
       "        -644.2725769000689],\n",
       "       [42, 'BM', 'F', ..., -714.8596835849695, 3672.066149087798,\n",
       "        -822.0212306426248],\n",
       "       ...,\n",
       "       [31, 'BM', nan, ..., -758.8298902647057, -407.9147313711989,\n",
       "        -772.0719717323849],\n",
       "       [32, 'BM', nan, ..., -769.8094961108546, -205.6277092450704,\n",
       "        -861.2984345215223],\n",
       "       [33, 'BM', nan, ..., -937.506736866882, 760.4336513947948,\n",
       "        -933.2724715594964]], dtype=object)"
      ]
     },
     "execution_count": 385,
     "metadata": {},
     "output_type": "execute_result"
    }
   ],
   "source": [
    "# Read the data first\n",
    "\n",
    "data='golub.csv'\n",
    "df = pd.read_csv(data)\n",
    "\n",
    "# Uploading into A\n",
    "\n",
    "A=df.values\n",
    "A"
   ]
  },
  {
   "cell_type": "markdown",
   "id": "aea3a20c",
   "metadata": {},
   "source": [
    "### 5. Determine the number of rows and columns of the matrix A."
   ]
  },
  {
   "cell_type": "code",
   "execution_count": 326,
   "id": "bcdbd598",
   "metadata": {},
   "outputs": [
    {
     "name": "stdout",
     "output_type": "stream",
     "text": [
      "The numbers of rows and columns of the matrix A are respectively:  72 and 7135\n"
     ]
    }
   ],
   "source": [
    "print(\"The numbers of rows and columns of the matrix A are respectively: \",A.shape[0],\"and\",A.shape[1])"
   ]
  },
  {
   "cell_type": "markdown",
   "id": "4fdc4876",
   "metadata": {},
   "source": [
    "### 6.  Rank of the sample covariance matrix"
   ]
  },
  {
   "cell_type": "code",
   "execution_count": 398,
   "id": "c795c1d3",
   "metadata": {},
   "outputs": [
    {
     "name": "stdout",
     "output_type": "stream",
     "text": [
      "The rank of the covariance matrix Sigma is:  71\n",
      "Sigma= [[1.01408451 0.5983628  0.44501241 ... 0.52216563 0.33959608 0.63701652]\n",
      " [0.5983628  1.01408451 0.45455838 ... 0.5254418  0.2233346  0.59087231]\n",
      " [0.44501241 0.45455838 1.01408451 ... 0.28572715 0.13081942 0.47219009]\n",
      " ...\n",
      " [0.52216563 0.5254418  0.28572715 ... 1.01408451 0.218887   0.79730401]\n",
      " [0.33959608 0.2233346  0.13081942 ... 0.218887   1.01408451 0.1944029 ]\n",
      " [0.63701652 0.59087231 0.47219009 ... 0.79730401 0.1944029  1.01408451]]\n"
     ]
    }
   ],
   "source": [
    "# First we determine the covariance matrix Sigma \n",
    "\n",
    "num_variables = df.select_dtypes(include=['float64'])    #Here, we are selecting only expression datas\n",
    "\n",
    "# Compute the mean and the standard deviation to standardize the data\n",
    "mean_vals = np.mean(num_variables, axis=0)\n",
    "std_devs = np.std(num_variables, axis=0)\n",
    "standardized_data = (num_variables - mean_vals) / std_devs\n",
    "\n",
    "# Compute the covariance matrix\n",
    "Sigma = np.cov(standardized_data, rowvar=False)\n",
    "\n",
    "#Sigma.shape\n",
    "\n",
    "\n",
    "print(\"The rank of the covariance matrix Sigma is: \",np.linalg.matrix_rank(Sigma))\n",
    "print(\"Sigma=\",Sigma)"
   ]
  },
  {
   "cell_type": "code",
   "execution_count": null,
   "id": "a6655404",
   "metadata": {},
   "outputs": [],
   "source": []
  },
  {
   "cell_type": "markdown",
   "id": "739578b4",
   "metadata": {},
   "source": [
    "### 7. Determine the principal components of the dataset."
   ]
  },
  {
   "cell_type": "code",
   "execution_count": 329,
   "id": "97620fe6",
   "metadata": {},
   "outputs": [],
   "source": [
    "import pandas as pd\n",
    "import numpy as np\n",
    "import matplotlib.pyplot as plt\n",
    "from sklearn.decomposition import PCA\n",
    "from sklearn.preprocessing import StandardScaler"
   ]
  },
  {
   "cell_type": "code",
   "execution_count": 400,
   "id": "aa56f510",
   "metadata": {},
   "outputs": [],
   "source": [
    "scaling=StandardScaler()\n",
    " \n",
    "# Use fit and transform method\n",
    "\n",
    "scaling.fit(standardized_data)\n",
    "Scaled_data=scaling.transform(standardized_data)\n",
    " \n",
    "\n",
    "principal=PCA(n_components=4)\n",
    "principal.fit(standardized_data)\n",
    "x=principal.transform(standardized_data)\n",
    "#x"
   ]
  },
  {
   "cell_type": "code",
   "execution_count": 402,
   "id": "25601a63",
   "metadata": {},
   "outputs": [
    {
     "name": "stdout",
     "output_type": "stream",
     "text": [
      "the principal components are:  [[ 0.01654593+0.j  0.00963044+0.j]\n",
      " [ 0.01546001+0.j  0.01226754+0.j]\n",
      " [ 0.01344495+0.j  0.00407046+0.j]\n",
      " ...\n",
      " [ 0.02086726+0.j -0.00186798+0.j]\n",
      " [ 0.00529976+0.j -0.00236946+0.j]\n",
      " [ 0.02230291+0.j  0.00064603+0.j]]\n"
     ]
    }
   ],
   "source": [
    "import numpy as np\n",
    "\n",
    "eigenvalues, eigenvectors = np.linalg.eig(Sigma)\n",
    "\n",
    "sorted_indices = np.argsort(eigenvalues)[::-1]\n",
    "eigenvectors_sorted = eigenvectors[:, sorted_indices]\n",
    "\n",
    "k = 2  # Choose the number of principal components\n",
    "principal_components = eigenvectors_sorted[:, :k]\n",
    "\n",
    "print(\"the principal components are: \", principal_components)"
   ]
  },
  {
   "cell_type": "markdown",
   "id": "be35be55",
   "metadata": {},
   "source": [
    "### 8. Eigenvalues of the sample covariance matrix Sigma"
   ]
  },
  {
   "cell_type": "code",
   "execution_count": 403,
   "id": "0ae32586",
   "metadata": {},
   "outputs": [
    {
     "name": "stdout",
     "output_type": "stream",
     "text": [
      "The eigenvalues of the sample covariance matrix are:  [ 1.63158552e+03+0.00000000e+00j  8.42595137e+02+0.00000000e+00j\n",
      "  3.91075830e+02+0.00000000e+00j ...  1.16745365e-16+0.00000000e+00j\n",
      " -2.39651135e-16+1.04013278e-16j -2.39651135e-16-1.04013278e-16j]\n"
     ]
    }
   ],
   "source": [
    "print(\"The eigenvalues of the sample covariance matrix are: \", eigenvalues)"
   ]
  },
  {
   "cell_type": "code",
   "execution_count": null,
   "id": "116e2347",
   "metadata": {},
   "outputs": [],
   "source": []
  }
 ],
 "metadata": {
  "kernelspec": {
   "display_name": "Python 3",
   "language": "python",
   "name": "python3"
  },
  "language_info": {
   "codemirror_mode": {
    "name": "ipython",
    "version": 3
   },
   "file_extension": ".py",
   "mimetype": "text/x-python",
   "name": "python",
   "nbconvert_exporter": "python",
   "pygments_lexer": "ipython3",
   "version": "3.9.2"
  }
 },
 "nbformat": 4,
 "nbformat_minor": 5
}
