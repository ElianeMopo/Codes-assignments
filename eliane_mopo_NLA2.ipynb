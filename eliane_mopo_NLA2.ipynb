{
 "cells": [
  {
   "cell_type": "markdown",
   "metadata": {},
   "source": [
    "# AIMS RW: Numerical Linear Algebra - Assignment 2\n",
    "Below is an implementation of Algorithm GEPP. You may want to have a look at the code to make sure you understand how it works before moving on to the exercises."
   ]
  },
  {
   "cell_type": "code",
   "execution_count": 50,
   "metadata": {},
   "outputs": [
    {
     "name": "stdout",
     "output_type": "stream",
     "text": [
      "x = [1. 1. 1.]\n"
     ]
    }
   ],
   "source": [
    "# Implementation of Algorithm GEPP.\n",
    "\n",
    "import numpy as np\n",
    "\n",
    "# Using forwardsub and backsub from week 3.\n",
    "\n",
    "def FS(L, b):\n",
    "    # Find dimension of L\n",
    "    n = L.shape[0]\n",
    "    \n",
    "    # Initialise y to zero vector of correct length\n",
    "    y = np.zeros(n)\n",
    "    \n",
    "    # loop over elements of y, starting from first one\n",
    "    for j in range(n):\n",
    "        y[j] = (b[j] - L[j, :j] @ y[:j]) / L[j, j] # compute y_j\n",
    "        \n",
    "    return y\n",
    "\n",
    "def BS(U, y):\n",
    "    # Find dimension of U\n",
    "    n = U.shape[0]\n",
    "    \n",
    "    # Initialise x to zero vector of correct length\n",
    "    x = np.zeros(n)\n",
    "    \n",
    "    # loop over elements of x, starting from last one\n",
    "    for j in range(n-1, -1, -1):\n",
    "        x[j] = (y[j] - U[j, j+1:] @ x[j+1:]) / U[j, j] # compute x_j\n",
    "    \n",
    "    return x\n",
    "\n",
    "# New implementation of Algorithm LUPP\n",
    "\n",
    "def LUPP(A):\n",
    "    # Find dimension of A\n",
    "    n = A.shape[0]\n",
    "    \n",
    "    # Initialise matrices L=I, U=A, P=I\n",
    "    L = np.eye(n)\n",
    "    U = np.copy(A)\n",
    "    P = np.eye(n)\n",
    "    \n",
    "    for k in range(n - 1): # Loop over columns 0 to n-2\n",
    "        \n",
    "        # Find pivot i\n",
    "        i = np.argmax(np.abs(U[k:, k])) # Find position of maximum entry in required range\n",
    "        i += k # Shift index to start counting from row 0\n",
    "        \n",
    "        # Swap rows correspondingly\n",
    "        if i != k:\n",
    "            # swap rows in U, columns k to n\n",
    "            U[[k, i], k:] = U[[i, k], k:]\n",
    "            \n",
    "            # swap rows in L, columns 1 to k-1\n",
    "            L[[k, i], :k] = L[[i, k], :k]\n",
    "            \n",
    "            # swap rows in P\n",
    "            P[[k, i], :] = P[[i, k], :]\n",
    "        \n",
    "        # Loop over rows and make entries below\n",
    "        # diagonal in column k equal to 0\n",
    "        for j in range(k + 1, n): # loop over rows k+1 to n\n",
    "            L[j, k] = U[j, k] / U[k, k] # compute the multiplier l_jk\n",
    "            U[j, k:] = U[j, k:] - L[j, k] * U[k, k:] # subtract a multiple of row k from row j\n",
    "        \n",
    "    return L, U, P\n",
    "\n",
    "def GEPP(A, b):\n",
    "    L, U, P = LUPP(A) # find LU factorisation with permuation of A\n",
    "    y = FS(L, P @ b) # solve Ly=Pb using forward substitution\n",
    "    x = BS(U, y) # solve Ux=y using back substitution\n",
    "    return x\n",
    "\n",
    "# Test the functions\n",
    "A = np.array([[2, 1, 1], [4, 3, 3], [8, 7, 9]], dtype=float)\n",
    "b = np.array([4, 10, 24], dtype=float)\n",
    "x = GEPP(A, b)\n",
    "print('x = {}'.format(x))"
   ]
  },
  {
   "cell_type": "markdown",
   "metadata": {},
   "source": [
    "---"
   ]
  },
  {
   "cell_type": "markdown",
   "metadata": {},
   "source": [
    "### Exercise 3 \n",
    "\n",
    "You may wish to use functions you have written in previous workshops and/or functions that were presented in lectures.\n",
    "\n",
    "For $n=50 \\times 2^k$ with $k=1, 2, \\dots, 5$:\n",
    "\n",
    "(i) Set up a random matrix `A` of dimension $n$.\n",
    "\n",
    "(ii) Create a vector `xsol` to represent a vector $x^{\\ast} \\in \\mathbb{R}^n$, all of whose entries are $1$.\n",
    "\n",
    "(iii) Compute the vector `b` such that $b = Ax^\\ast$.\n",
    "\n",
    "(iv) Use Algorithm GE to solve $Ax=b$, and store the solution in the variable `x1`. Take note of the elapsed time, as well as the $\\infty-$norm of the residual `A @ x1 - b` and the error `xsol - x1`. \n",
    "\n",
    "(v) Use Algorithm GEPP to solve $Ax=b$, and store the solution in the variable `x2`. Take note of the elapsed time, as well as the $\\infty-$norm of the residual `A @ x2 - b` and the error `xsol - x2`.\n",
    "\n",
    "How do the elapsed times of the two algorithms compare? Is this what you expected? Do you notice any trends with n?\n",
    "\n",
    "How do the norms of the residual and the error compare? Is this what you expected? Do you notice any trends with n?"
   ]
  },
  {
   "cell_type": "code",
   "execution_count": 51,
   "metadata": {},
   "outputs": [
    {
     "name": "stdout",
     "output_type": "stream",
     "text": [
      "\n",
      "t_GE =  [0.02895045280456543, 0.049288034439086914, 0.20182180404663086, 0.889509916305542, 4.260830640792847]\n",
      "t_GEPP =  [0.024074554443359375, 0.09510517120361328, 0.2640254497528076, 0.9573357105255127, 4.347942590713501]\n",
      "\n",
      "ResGE =  [6.139089236967266e-12, 2.715694336075103e-11, 7.779021871101577e-11, 5.113633960718289e-10, 3.264062797825318e-09]\n",
      "ResGEPP =  [3.552713678800501e-14, 9.947598300641403e-14, 2.5579538487363607e-13, 9.094947017729282e-13, 2.5011104298755527e-12]\n",
      "\n",
      "SolErrGE =  [1.0360379221197036e-11, 2.6851298962071724e-10, 8.110290217189231e-11, 5.946709791260218e-10, 8.460344425031963e-09]\n",
      "SolErrGEPP =  [4.0745185003743245e-14, 1.1552980794249379e-12, 8.537615059367454e-13, 1.1127765375817944e-12, 1.3959833289334256e-11]\n"
     ]
    }
   ],
   "source": [
    "import numpy as np\n",
    "import time\n",
    "\n",
    "#Definition of a function LU which factorise A\n",
    "\n",
    "def LU(A):\n",
    "    # Find dimension of A\n",
    "    n = A.shape[0]\n",
    "    \n",
    "    # Initialise L=I, U=A\n",
    "    L = np.eye(n) \n",
    "    U = np.copy(A)\n",
    "\n",
    "    for k in range(n - 1):                           # loop over columns 1 to n-1\n",
    "        for j in range(k + 1, n):                    # loop over rows k+1 to n\n",
    "            L[j, k] = U[j, k] / U[k ,k]              # compute the multiplier l_jk\n",
    "            U[j, k:] = U[j, k:] - L[j, k] * U[k, k:] # subtract a multiple of row k from row j\n",
    "    \n",
    "    return L, U\n",
    "\n",
    "\n",
    "\n",
    "#Definition of a function GE which solves Ax=b \n",
    "\n",
    "def GE(A, b):\n",
    "    L, U = LU(A)                                   # find LU factorisation of A\n",
    "    y = FS(L, b)                                   # solve Ly=b using forward substitution\n",
    "    x = BS(U, y)                                   # solve Ux=y using back substitution\n",
    "    return x                                       # Return the solution x of Ax=b\n",
    "\n",
    "\n",
    "\n",
    "\n",
    "t_GE=[]                                            #Initialise list containing time elapsed using GE method\n",
    "#sol_GE=[]                                         #Initialise list containing solutions using GE method\n",
    "t_GEPP=[]                                          #Initialise list containing time elapsed using GEPP method\n",
    "#sol_GEPP=[]                                       #Initialise list containing solutions using GEPP method\n",
    "\n",
    "ResGE=[]                                           #Initialise list containing the inf-norm  of residual using GE method\n",
    "ResGEPP=[]                                         #Initialise list containing the inf-norm of residual using GEPP method\n",
    "\n",
    "SolErrGE=[]                                        #Initialise list containing the inf-norm of solution errors using GE method\n",
    "SolErrGEPP=[]                                      #Initialise list containing the inf-norm of solution errors using GEPP method\n",
    "\n",
    "#Loop over values of k\n",
    "\n",
    "for k in range(1,6):                               \n",
    "    n = 50*2**k                                     #Define n\n",
    "    A = np.random.rand(n,n)                         #Define a random matrix A of dimension n\n",
    "    xsol = np.ones(n)                               #Create a vector xsol which represent a vector x* of size n, all of whose entries are 1\n",
    "    b = A@xsol                                      #Compute b such that b=Ax*\n",
    "    \n",
    "    \n",
    "    x1 = GE(A,b)                                    #Using GE function to solve Ax=b and storing the solution in x1\n",
    "    #x1.append(sol_GE)                              #Appending each solution for GE in their list sol_GE\n",
    "    \n",
    "    #Computing the elapsed time using GE method\n",
    "    \n",
    "    t01 = time.time()\n",
    "    x1 = GE(A, b)\n",
    "    t1 = time.time() - t01\n",
    "    t_GE.append(t1)\n",
    "    \n",
    "    res1 = np.linalg.norm(A@x1-b,np.inf)             #Compute the inf-norm of the residual using GE method\n",
    "    sol_err1 = np.linalg.norm(xsol-x1,np.inf)        #Compute the inf-norm of the solution error using GE method                              \n",
    "    ResGE.append(res1)                               #Appending each residual  for GE in their list ResGE\n",
    "    SolErrGE.append(sol_err1)                        #Appending each solution error for GE in their list SolErrGE\n",
    "    \n",
    "    \n",
    "    x2 = GEPP(A,b)                                   #Using GEPP function to solve Ax=b and storing the solution in x1\n",
    "    #x2.append(sol_GEPP)                             #Appending each solution for GEPP in their list sol_GEPP\n",
    "    \n",
    "    #Computing the elapsed time using GEPP method\n",
    "    \n",
    "    t02 = time.time()\n",
    "    x2 = GEPP(A, b)\n",
    "    t2 = time.time() - t02\n",
    "    t_GEPP.append(t2)\n",
    "    \n",
    "    res2 = np.linalg.norm(A@x2-b,np.inf)            #Compute the inf-norm of the residual using GEPP method\n",
    "    sol_err2 = np.linalg.norm(xsol-x2,np.inf)       #Compute the inf-norm of the solution error using GEPP method                              \n",
    "    ResGEPP.append(res2)                            #Appending each residual error for GEPP in their list ResGEPP\n",
    "    SolErrGEPP.append(sol_err2)                     #Appending each solution error for GEPP in their list SolErrGEPP\n",
    "\n",
    "    \n",
    "#print('sol_GE = ', sol_GE)\n",
    "#print('sol_GE = ', sol_GE)\n",
    "print()\n",
    "print('t_GE = ', t_GE)                              #Print the list containing time elapsed using GE method\n",
    "print('t_GEPP = ', t_GEPP)                          #Print the list containing time elapsed using GEPP method\n",
    "print()\n",
    "print('ResGE = ', ResGE)                            #Print the list containing the inf-norm  of residual using GE method\n",
    "print('ResGEPP = ', ResGEPP)                        #Print the list containing the inf-norm  of residual using GEPP method\n",
    "print()\n",
    "print('SolErrGE = ', SolErrGE)                      #Print the list containing the inf-norm  of solution errors using GE method\n",
    "print('SolErrGEPP = ', SolErrGEPP)                  #Print the list containing the inf-norm  of solution errors using GEPP method\n",
    "    \n",
    "# add code here"
   ]
  },
  {
   "cell_type": "markdown",
   "metadata": {},
   "source": [
    "#### Comment below"
   ]
  },
  {
   "cell_type": "code",
   "execution_count": 52,
   "metadata": {},
   "outputs": [
    {
     "data": {
      "image/png": "[encoded data removed]",
      "text/plain": [
       "<Figure size 432x288 with 1 Axes>"
      ]
     },
     "metadata": {
      "needs_background": "light"
     },
     "output_type": "display_data"
    }
   ],
   "source": [
    "import matplotlib.pyplot as plt\n",
    "plt.plot(range(1,6),t_GEPP , label =\"t_GEPP \", linewidth=2)\n",
    "plt.plot(range(1,6),t_GE , label =\"t_GE\", linewidth=2)\n",
    "plt.legend()\n",
    "plt.show()"
   ]
  },
  {
   "cell_type": "code",
   "execution_count": 53,
   "metadata": {},
   "outputs": [
    {
     "name": "stdout",
     "output_type": "stream",
     "text": [
      "Difference between t_GEPP and t_GE is :  [-0.004875898361206055, 0.04581713676452637, 0.06220364570617676, 0.0678257942199707, 0.0871119499206543]\n"
     ]
    }
   ],
   "source": [
    "print('Difference between t_GEPP and t_GE is : ',[t_GEPP[i]-t_GE[i] for i in range(5)])"
   ]
  },
  {
   "cell_type": "markdown",
   "metadata": {},
   "source": [
    "#### Comment about the time of the both algorithm\n",
    "\n",
    "Since the difference t_GEPP and t_GE is positive and according to the graph, this means that the time to execute GEPP is greater than the one to execute GE. So, the cost to execute GEPP is greater than the one of GE, which is exactly what we expected since GEPP uses the pivot in addition of GE.\n",
    "\n",
    "$\\underline{Note:}$ When $n\\to +\\infty$, this extra cost is negligeable and the both time tend to infinity."
   ]
  },
  {
   "cell_type": "code",
   "execution_count": 54,
   "metadata": {},
   "outputs": [
    {
     "data": {
      "image/png": "[encoded data removed]",
      "text/plain": [
       "<Figure size 432x288 with 1 Axes>"
      ]
     },
     "metadata": {
      "needs_background": "light"
     },
     "output_type": "display_data"
    }
   ],
   "source": [
    "import matplotlib.pyplot as plt\n",
    "plt.plot(range(1,6),ResGEPP , label =\"ResGEPP \", linewidth=2)\n",
    "plt.plot(range(1,6),ResGE , label =\"ResGE \", linewidth=2)\n",
    "plt.legend()\n",
    "plt.show()"
   ]
  },
  {
   "cell_type": "code",
   "execution_count": 34,
   "metadata": {},
   "outputs": [
    {
     "name": "stdout",
     "output_type": "stream",
     "text": [
      "Difference between ResGEPP and ResGE is :  [-4.050093593832571e-13, -6.849631972727366e-12, -5.900346877751872e-11, -7.922835720819421e-10, -3.0196360967238434e-09]\n"
     ]
    }
   ],
   "source": [
    "print('Difference between ResGEPP and ResGE is : ',[ResGEPP[i]-ResGE[i] for i in range(5)])"
   ]
  },
  {
   "cell_type": "markdown",
   "metadata": {},
   "source": [
    "#### Comment about residuals of the both algorithm\n",
    "\n",
    "Since the difference ResGEPP and ResGE is negative, this means that the residual in GEPP is less than the one in GE, the lost is less significant in GEPP than in GE. Which is exaclty what we expected since GEPP is an improvment of GE.\n",
    "\n",
    "$\\underline{Note:}$ When $n\\to +\\infty$, the residual of the GEPP method tends to zero while the one of GE tends to infinity."
   ]
  },
  {
   "cell_type": "code",
   "execution_count": 55,
   "metadata": {},
   "outputs": [
    {
     "name": "stdout",
     "output_type": "stream",
     "text": [
      "Difference between SolErrGEPP and SolErrGE is :  [-1.0319634036193293e-11, -2.673576915412923e-10, -8.024914066595557e-11, -5.935582025884401e-10, -8.446384591742628e-09]\n"
     ]
    }
   ],
   "source": [
    "print('Difference between SolErrGEPP and SolErrGE is : ',[SolErrGEPP[i]-SolErrGE[i] for i in range(5)])"
   ]
  },
  {
   "cell_type": "code",
   "execution_count": 56,
   "metadata": {},
   "outputs": [
    {
     "data": {
      "image/png": "[encoded data removed]",
      "text/plain": [
       "<Figure size 432x288 with 1 Axes>"
      ]
     },
     "metadata": {
      "needs_background": "light"
     },
     "output_type": "display_data"
    }
   ],
   "source": [
    "import matplotlib.pyplot as plt\n",
    "plt.plot(range(1,6),SolErrGEPP , label =\"SolErrGEPP \", linewidth=2)\n",
    "plt.plot(range(1,6),SolErrGE , label =\"SolErrGE \", linewidth=2)\n",
    "plt.legend()\n",
    "plt.show()"
   ]
  },
  {
   "cell_type": "markdown",
   "metadata": {},
   "source": [
    "#### Comment about solution errors of the both algorithm\n",
    "\n",
    "Since the difference SolErrGEPP and SolErrGE is negative, this means that the error gives by GEPP is less than the one gives by GE. So, the solution from GEPP is more close to the exact solution than the one of GE, which is exaclty what we expected since GEPP is an improvment of GE.\n",
    "\n",
    "$\\underline{Note:}$ When $n\\to +\\infty$, the the error solution of GEPP tends to 0 while the one of GE tends to infinity"
   ]
  },
  {
   "cell_type": "code",
   "execution_count": null,
   "metadata": {},
   "outputs": [],
   "source": []
  },
  {
   "cell_type": "code",
   "execution_count": null,
   "metadata": {},
   "outputs": [],
   "source": []
  }
 ],
 "metadata": {
  "kernelspec": {
   "display_name": "Python 3",
   "language": "python",
   "name": "python3"
  },
  "language_info": {
   "codemirror_mode": {
    "name": "ipython",
    "version": 3
   },
   "file_extension": ".py",
   "mimetype": "text/x-python",
   "name": "python",
   "nbconvert_exporter": "python",
   "pygments_lexer": "ipython3",
   "version": "3.9.2"
  }
 },
 "nbformat": 4,
 "nbformat_minor": 2
}
